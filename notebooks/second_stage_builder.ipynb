{
 "cells": [
  {
   "cell_type": "code",
   "execution_count": 7,
   "id": "02e8db1b",
   "metadata": {},
   "outputs": [],
   "source": [
    "import os\n",
    "import re\n",
    "splits_dir = \"../split-keys\""
   ]
  },
  {
   "cell_type": "code",
   "execution_count": 18,
   "id": "d714acbd",
   "metadata": {},
   "outputs": [
    {
     "data": {
      "text/plain": [
       "['ebds_keys.txt',\n",
       " 'ibis-ds-sa_keys.txt',\n",
       " 'abcd-train_keys.txt',\n",
       " 'abcd-val_keys.txt',\n",
       " 'abcd-test_keys.txt',\n",
       " 'abcd-cbcl-ood_keys.txt',\n",
       " 'ibis-inlier_keys.txt',\n",
       " 'ibis-asd_keys.txt',\n",
       " 'ibis-hr-inliers_keys.txt',\n",
       " 'ibis-atypical_keys.txt',\n",
       " 'brats-ped_keys.txt',\n",
       " 'brats-gli_keys.txt',\n",
       " 'multisource-train_keys.txt',\n",
       " 'multisource-val_keys.txt',\n",
       " 'multisource-test_keys.txt',\n",
       " 'hcp_keys.txt',\n",
       " 'mslub_keys.txt',\n",
       " 'camcan_keys.txt',\n",
       " 'camcan-train_keys.txt',\n",
       " 'camcan-val_keys.txt',\n",
       " 'camcan-test_keys.txt',\n",
       " 'usf-train_keys.txt',\n",
       " 'usf-val_keys.txt',\n",
       " 'usf-test_keys.txt',\n",
       " 'camcan-val_keys-score-model.txt',\n",
       " 'msseg_keys.txt',\n",
       " 'ibis-non-ds-asd_keys.txt',\n",
       " 'usf-butterfly-train_keys.txt',\n",
       " 'usf-butterfly-val_keys.txt',\n",
       " 'usf-butterfly-test_keys.txt',\n",
       " 'usf-ge-train_keys.txt',\n",
       " 'usf-ge-val_keys.txt',\n",
       " 'usf-ge-test_keys.txt',\n",
       " 'usf-ge-ood_keys.txt',\n",
       " 'multisource-young-train_keys.txt',\n",
       " 'multisource-young-val_keys.txt',\n",
       " 'multisource-young-test_keys.txt',\n",
       " 'ds-finetune-train_keys.txt',\n",
       " 'ds-finetune-val_keys.txt',\n",
       " 'ds-finetune-test_keys.txt',\n",
       " 'ds-multisource-train_keys.txt',\n",
       " 'ds-multisource-val_keys.txt',\n",
       " 'ds-multisource-test_keys.txt']"
      ]
     },
     "execution_count": 18,
     "metadata": {},
     "output_type": "execute_result"
    }
   ],
   "source": [
    "all_splits = list(filter(lambda x: \"_keys\" in x, os.listdir(splits_dir)))\n",
    "all_splits"
   ]
  },
  {
   "cell_type": "code",
   "execution_count": 14,
   "id": "5ca1255a",
   "metadata": {},
   "outputs": [],
   "source": [
    "# ABCD validation set will be used for hyper parameter tuning\n",
    "# Down Syndrome and BraTS are obviously not typical\n",
    "exclude = [\"abcd-val\", \"ibis-ds-sa\", \"brats-ped\", \"brats-gli\", \"camcan\", 'hcp']\n",
    "\n",
    "multisource_list = [\n",
    "    'abcd-train', 'abcd-test', 'abcd-cbcl-ood',\n",
    "    'ibis-inlier', 'ibis-hr-inliers',\n",
    "    'ibis-atypical', 'ibis-asd', 'ebds'\n",
    "]\n",
    "\n",
    "ds_finetune_list = [\n",
    "    'abcd-test', 'abcd-cbcl-ood',\n",
    "    'ibis-inlier', 'ibis-hr-inliers',\n",
    "    'ibis-atypical',\n",
    "]\n",
    "\n",
    "ds_multisource_list = [\n",
    "    'abcd-train',\n",
    "    'abcd-test', 'abcd-cbcl-ood',\n",
    "    'ibis-inlier', 'ibis-hr-inliers',\n",
    "    'ibis-atypical',\n",
    "]"
   ]
  },
  {
   "cell_type": "code",
   "execution_count": 15,
   "id": "c43c7802",
   "metadata": {},
   "outputs": [],
   "source": [
    "output_file = f\"{splits_dir}/ds-multisource-train_keys.txt\"\n",
    "with open(output_file, 'w') as outfile:\n",
    "    for filename in ds_multisource_list:\n",
    "        with open(f\"{splits_dir}/{filename}_keys.txt\", 'r') as infile:\n",
    "            outfile.write(infile.read())"
   ]
  },
  {
   "cell_type": "code",
   "execution_count": 16,
   "id": "867f52ea",
   "metadata": {},
   "outputs": [],
   "source": [
    "output_file = f\"{splits_dir}/ds-multisource-val_keys.txt\"\n",
    "with open(output_file, 'w') as outfile:\n",
    "    with open(f\"{splits_dir}/abcd-val_keys.txt\", 'r') as infile:\n",
    "        outfile.write(infile.read())"
   ]
  },
  {
   "cell_type": "code",
   "execution_count": 17,
   "id": "44501f84",
   "metadata": {},
   "outputs": [],
   "source": [
    "output_file = f\"{splits_dir}/ds-multisource-test_keys.txt\"\n",
    "with open(output_file, 'w') as outfile:\n",
    "    with open(f\"{splits_dir}/abcd-val_keys.txt\", 'r') as infile:\n",
    "        outfile.write(infile.read())"
   ]
  },
  {
   "cell_type": "code",
   "execution_count": null,
   "id": "b6ab7377",
   "metadata": {},
   "outputs": [],
   "source": []
  }
 ],
 "metadata": {
  "kernelspec": {
   "display_name": "Python 3 (ipykernel)",
   "language": "python",
   "name": "python3"
  },
  "language_info": {
   "codemirror_mode": {
    "name": "ipython",
    "version": 3
   },
   "file_extension": ".py",
   "mimetype": "text/x-python",
   "name": "python",
   "nbconvert_exporter": "python",
   "pygments_lexer": "ipython3",
   "version": "3.10.6"
  }
 },
 "nbformat": 4,
 "nbformat_minor": 5
}
