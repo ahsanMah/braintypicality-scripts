{
 "cells": [
  {
   "cell_type": "code",
   "execution_count": 1,
   "id": "d25126ec",
   "metadata": {},
   "outputs": [],
   "source": [
    "import os\n",
    "import re\n",
    "\n",
    "splits_dir = \"../split-keys\""
   ]
  },
  {
   "cell_type": "code",
   "execution_count": 2,
   "id": "27d43255",
   "metadata": {},
   "outputs": [
    {
     "data": {
      "text/plain": [
       "['ebds_keys.txt',\n",
       " 'ibis-ds-sa_keys.txt',\n",
       " 'abcd-train_keys.txt',\n",
       " 'abcd-val_keys.txt',\n",
       " 'abcd-test_keys.txt',\n",
       " 'abcd-cbcl-ood_keys.txt',\n",
       " 'ibis-inlier_keys.txt',\n",
       " 'ibis-asd_keys.txt',\n",
       " 'ibis-hr-inliers_keys.txt',\n",
       " 'ibis-atypical_keys.txt',\n",
       " 'brats-ped_keys.txt',\n",
       " 'brats-gli_keys.txt',\n",
       " 'multisource-train_keys.txt',\n",
       " 'multisource-val_keys.txt',\n",
       " 'multisource-test_keys.txt',\n",
       " 'hcp_keys.txt']"
      ]
     },
     "execution_count": 2,
     "metadata": {},
     "output_type": "execute_result"
    }
   ],
   "source": [
    "all_splits = list(filter(lambda x: \"_keys\" in x, os.listdir(splits_dir)))\n",
    "all_splits"
   ]
  },
  {
   "cell_type": "code",
   "execution_count": 3,
   "id": "841ad84a",
   "metadata": {},
   "outputs": [],
   "source": [
    "# ABCD validation set will be used for hyper parameter tuning\n",
    "# Down Syndrome and BraTS are obviously not typical\n",
    "exclude = [\"abcd-val\", \"ibis-ds-sa\", \"brats-ped\", \"brats-gli\"]\n",
    "\n",
    "multisource_list = [\n",
    "    'abcd-train', 'abcd-test', 'abcd-cbcl-ood',\n",
    "    'ibis-inlier', 'ibis-hr-inliers', 'ibis-atypical', 'ibis-asd', \n",
    "    'hcp', 'ebds'\n",
    "]"
   ]
  },
  {
   "cell_type": "code",
   "execution_count": 4,
   "id": "d30633d6",
   "metadata": {},
   "outputs": [],
   "source": [
    "output_file = f\"{splits_dir}/multisource-train_keys.txt\"\n",
    "with open(output_file, 'w') as outfile:\n",
    "    for filename in multisource_list:\n",
    "        with open(f\"{splits_dir}/{filename}_keys.txt\", 'r') as infile:\n",
    "            outfile.write(infile.read())"
   ]
  },
  {
   "cell_type": "code",
   "execution_count": 5,
   "id": "ffe9f750",
   "metadata": {},
   "outputs": [],
   "source": [
    "output_file = f\"{splits_dir}/multisource-val_keys.txt\"\n",
    "with open(output_file, 'w') as outfile:\n",
    "    with open(f\"{splits_dir}/abcd-val_keys.txt\", 'r') as infile:\n",
    "        outfile.write(infile.read())"
   ]
  },
  {
   "cell_type": "code",
   "execution_count": 6,
   "id": "c12975e4",
   "metadata": {},
   "outputs": [],
   "source": [
    "output_file = f\"{splits_dir}/multisource-test_keys.txt\"\n",
    "with open(output_file, 'w') as outfile:\n",
    "    with open(f\"{splits_dir}/abcd-val_keys.txt\", 'r') as infile:\n",
    "        outfile.write(infile.read())"
   ]
  },
  {
   "cell_type": "code",
   "execution_count": null,
   "id": "fe060f9f",
   "metadata": {},
   "outputs": [],
   "source": []
  }
 ],
 "metadata": {
  "kernelspec": {
   "display_name": "Python 3 (ipykernel)",
   "language": "python",
   "name": "python3"
  },
  "language_info": {
   "codemirror_mode": {
    "name": "ipython",
    "version": 3
   },
   "file_extension": ".py",
   "mimetype": "text/x-python",
   "name": "python",
   "nbconvert_exporter": "python",
   "pygments_lexer": "ipython3",
   "version": "3.10.6"
  }
 },
 "nbformat": 4,
 "nbformat_minor": 5
}
